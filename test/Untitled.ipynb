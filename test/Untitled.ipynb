{
 "cells": [
  {
   "cell_type": "code",
   "execution_count": 1,
   "id": "40ac47e9",
   "metadata": {},
   "outputs": [],
   "source": [
    "import numpy as np\n",
    "import pandas as pd \n",
    "import sklearn\n",
    "import streamlit as st\n",
    "from sklearn.metrics.pairwise import cosine_similarity, linear_kernel\n",
    "\n",
    "# Importing scipy Packages\n",
    "from scipy.sparse.linalg import svds\n",
    "\n",
    "toronto_URL= \"data/decreased.csv\"\n",
    "def load_data(url):\n",
    "    data = pd.read_csv(url)\n",
    "    return data\n",
    "\n",
    "toronto_data = load_data(toronto_URL)\n",
    "def mean_center_rows(df):\n",
    "    return (df.T - df.mean(axis = 1)).T\n",
    "def score(data):\n",
    "    # Computing Super-Score Rating for Reviews\n",
    "    data['super_score'] = data['polarity'] *  data['compound']\n",
    "    data['super_score'] = data['super_score'] + data['stars']\n",
    "\n",
    "    return data\n",
    "def cos_matrix(data):\n",
    "    # Combining the text in Keywords and categories columns\n",
    "    # data['All_Keywords'] = data['categories'].str.cat(data['Keywords'],sep=\", \")\n",
    "\n",
    "    # Creating the Matrix by using the Pivot Table Function\n",
    "    toronto_restaurant_rating = data.pivot_table(index = 'user_id', columns = 'name', values = 'super_score')\n",
    "\n",
    "    # Normalizing the Rating Scores\n",
    "    toronto_restaurant_rating = mean_center_rows(toronto_restaurant_rating)\n",
    "\n",
    "    # Filling all Null Values with 0.0\n",
    "    toronto_restaurant_rating = toronto_restaurant_rating.fillna(0)\n",
    "\n",
    "    #cosine similarity\n",
    "\n",
    "    # List of first 10 Yelp Customer User_ids in the Matrix\n",
    "    user_ids = list(toronto_restaurant_rating.index)\n",
    "\n",
    "    # Converting the Matrix DataFrame into a NumPy array\n",
    "    toronto_matrix = toronto_restaurant_rating.to_numpy()\n",
    "\n",
    "    # Applying Singular Value Decomposition (SVD)\n",
    "    #The number of factors to factor the user-item matrix.\n",
    "    NUMBER_OF_FACTORS_MF = 15\n",
    "\n",
    "    #Performs matrix factorization of the original user item matrix\n",
    "    U, sigma, Vt = svds(toronto_matrix, k = NUMBER_OF_FACTORS_MF)\n",
    "\n",
    "    sigma = np.diag(sigma)\n",
    "\n",
    "    # Overview of user ratings across all Restaurants in Toronto\n",
    "    all_user_predicted_ratings = np.dot(np.dot(U, sigma), Vt) \n",
    "\n",
    "    # Converting the reconstructed matrix back to a Pandas dataframe\n",
    "    cf_preds_df = pd.DataFrame(all_user_predicted_ratings, columns = toronto_restaurant_rating.columns, index=user_ids).transpose()\n",
    "\n",
    "    return cf_preds_df\n",
    "\n",
    "def item_matrix():\n",
    "    # Creating Item-Item Matrix based on Cosine Similarity\n",
    "    item_item_matrix = cosine_similarity(cf_preds_df)\n",
    "    item_item_matrix= pd.DataFrame(item_item_matrix, columns=cf_preds_df.index, index = cf_preds_df.index)\n",
    "\n",
    "    return item_item_matrix\n",
    "\n",
    "toronto_data = load_data(toronto_URL)\n",
    "cf_preds_df = cos_matrix(toronto_data)\n",
    "item_item_matrix = item_matrix()\n",
    "\n",
    "\n",
    "# Creating Collaborative Filtering Function for Restaurant-Restaurant Recommendation System\n",
    "def cf_recommender(restaurant):\n",
    "    \n",
    "    \"\"\"Getting the correlation of a specific restaurant with other Toronto Restaurants\"\"\"\n",
    "    restaurant_ratings = cf_preds_df.T[restaurant]\n",
    "    similar_restaurant_ratings = cf_preds_df.T.corrwith(restaurant_ratings)\n",
    "    corr_ratings = pd.DataFrame(similar_restaurant_ratings, columns=['Correlation'])\n",
    "    corr_ratings.dropna(inplace=True)\n",
    "    \n",
    "    \"\"\"Retrieving the Ratings Scores from the Item-Item Matrix\"\"\"\n",
    "    ratings_sim = item_item_matrix[restaurant]\n",
    "    \n",
    "    \"\"\"Filtering for positively correlated restaurants\"\"\"\n",
    "    ratings_sim = ratings_sim[ratings_sim>0]\n",
    "    \n",
    "    \"\"\"Generate Top 10 Recommended Restaurants\"\"\"\n",
    "    \"\"\"Exclude top row as that will be the same restaurant\"\"\"\n",
    "    return ratings_sim.sort_values(ascending= False).head(11)[1:]\n",
    "a=cf_recommender('Birrieria La Plaza')"
   ]
  },
  {
   "cell_type": "code",
   "execution_count": 6,
   "id": "72ba34f9",
   "metadata": {},
   "outputs": [
    {
     "data": {
      "text/plain": [
       "name\n",
       "Pita Pit                          0.954921\n",
       "Cascadia Coffee Pub               0.946316\n",
       "MF Tasty                          0.941666\n",
       "Pepe Chile Taqueria & Catering    0.929970\n",
       "The Spot 79                       0.928068\n",
       "Kim Jong Grillin'                 0.925859\n",
       "Smokin Fire Fish                  0.921577\n",
       "Cartlandia - Food Carts           0.920334\n",
       "Jacqueline                        0.917757\n",
       "Pollo Bravo                       0.916757\n",
       "Name: Birrieria La Plaza, dtype: float64"
      ]
     },
     "execution_count": 6,
     "metadata": {},
     "output_type": "execute_result"
    }
   ],
   "source": [
    "a"
   ]
  },
  {
   "cell_type": "code",
   "execution_count": 8,
   "id": "49e0315d",
   "metadata": {},
   "outputs": [
    {
     "data": {
      "text/plain": [
       "'Pita Pit'"
      ]
     },
     "execution_count": 8,
     "metadata": {},
     "output_type": "execute_result"
    }
   ],
   "source": [
    "a.index[0]"
   ]
  },
  {
   "cell_type": "code",
   "execution_count": null,
   "id": "616598e8",
   "metadata": {},
   "outputs": [],
   "source": []
  }
 ],
 "metadata": {
  "kernelspec": {
   "display_name": "Python 3 (ipykernel)",
   "language": "python",
   "name": "python3"
  },
  "language_info": {
   "codemirror_mode": {
    "name": "ipython",
    "version": 3
   },
   "file_extension": ".py",
   "mimetype": "text/x-python",
   "name": "python",
   "nbconvert_exporter": "python",
   "pygments_lexer": "ipython3",
   "version": "3.8.12"
  }
 },
 "nbformat": 4,
 "nbformat_minor": 5
}
